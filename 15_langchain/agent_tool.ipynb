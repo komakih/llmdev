{
 "cells": [
  {
   "cell_type": "code",
   "execution_count": 4,
   "id": "8fbf10ef",
   "metadata": {},
   "outputs": [],
   "source": [
    "# 必要なモジュールをインポート\n",
    "import os\n",
    "from dotenv import load_dotenv\n",
    "from langchain_openai import ChatOpenAI\n",
    "\n",
    "# 環境変数の読み込み\n",
    "load_dotenv(\"../.env\")\n",
    "os.environ['OPENAI_API_KEY'] = os.environ['API_KEY']\n",
    "\n",
    "# モデル名\n",
    "MODEL_NAME = \"gpt-4o-mini\""
   ]
  },
  {
   "cell_type": "code",
   "execution_count": 5,
   "id": "d90bf7f1",
   "metadata": {},
   "outputs": [],
   "source": [
    "# 検索ツールの定義\n",
    "from langchain_community.tools.tavily_search import TavilySearchResults\n",
    "\n",
    "tool = TavilySearchResults(max_results=2)\n",
    "tools = [tool]"
   ]
  },
  {
   "cell_type": "code",
   "execution_count": 6,
   "id": "850ac884",
   "metadata": {},
   "outputs": [
    {
     "data": {
      "text/plain": [
       "[{'url': 'https://langchain-ai.github.io/langgraph/concepts/low_level/',\n",
       "  'content': 'In LangGraph, nodes are typically python functions (sync or async) where the first positional argument is the state, and (optionally), the second positional argument is a \"config\", containing optional configurable parameters (such as a thread_id).\\nSimilar to NetworkX, you add these nodes to a graph using the add_node method:\\n[](https://langchain-ai.github.io/langgraph/concepts/low_level/#__codelineno-7-1)fromlangchain_core.runnablesimport RunnableConfig [...] LangGraph Glossary¶\\nGraphs¶\\nAt its core, LangGraph models agent workflows as graphs. You define the behavior of your agents using three key components:\\n\\n\\nState: A shared data structure that represents the current snapshot of your application. It can be any Python type, but is typically a TypedDict or Pydantic BaseModel.\\n\\n\\nNodes: Python functions that encode the logic of your agents. They receive the current State as input, perform some computation or side-effect, and return an updated State. [...] By composing Nodes and Edges, you can create complex, looping workflows that evolve the State over time. The real power, though, comes from how LangGraph manages that State. To emphasize: Nodes and Edges are nothing more than Python functions - they can contain an LLM or just good ol\\' Python code.\\nIn short: nodes do the work. edges tell what to do next.'},\n",
       " {'url': 'https://www.supinf.co.jp/tech-blog/details/about-langgraph/',\n",
       "  'content': 'ã\\x81¾ã\\x81\\x9fã\\x80\\x81ã\\x81\\x93ã\\x81\\x93ã\\x81§å®\\x9aç¾©ã\\x81\\x97ã\\x81\\x9få\\x80¤ã\\x81¯ Node ã\\x81«ã\\x82\\x88ã\\x81£ã\\x81¦æ\\x9b´æ\\x96° (è¿½å\\x8a\\xa0ã\\x81¾ã\\x81\\x9fã\\x81¯ä¸\\x8aæ\\x9b¸ã\\x81\\x8d) ã\\x81\\x95ã\\x82\\x8cã\\x81¾ã\\x81\\x99ã\\x80\\x82ä¸\\x8aè¨\\x98ã\\x81®ä¾\\x8bã\\x81®å\\xa0´å\\x90\\x88ã\\x81¯ message ã\\x81¸ã\\x81®è¿½å\\x8a\\xa0ã\\x81¨ next ã\\x81®ä¸\\x8aæ\\x9b¸ã\\x81\\x8dã\\x81\\x8cè¡\\x8cã\\x82\\x8fã\\x82\\x8cã\\x82\\x8bã\\x81\\x93ã\\x81¨ã\\x82\\x92æ\\x83³å®\\x9aã\\x81\\x97ã\\x81¦ã\\x81\\x84ã\\x81¾ã\\x81\\x99ã\\x80\\x82\\n\\nNode\\n\\nNode ã\\x81¯å\\x85·ä½\\x93ç\\x9a\\x84ã\\x81ªå\\x87¦ç\\x90\\x86ã\\x82\\x92è¡\\x8cã\\x81\\x86è¦\\x81ç´\\xa0ã\\x81§ã\\x80\\x81name ã\\x81¨ value ã\\x82\\x92æ\\x8c\\x87å®\\x9aã\\x81\\x97ã\\x81¦ä»¥ä¸\\x8bã\\x81®ã\\x82\\x88ã\\x81\\x86ã\\x81ªè¨\\x98è¿°ã\\x81§è¿½å\\x8a\\xa0ã\\x81\\x99ã\\x82\\x8bã\\x81\\x93ã\\x81¨ã\\x81\\x8cã\\x81§ã\\x81\\x8dã\\x81¾ã\\x81\\x99ã\\x80\\x82\\n\\nå\\x90\\x84ã\\x83\\x91ã\\x83©ã\\x83¡ã\\x83¼ã\\x82¿ã\\x81®èª¬æ\\x98\\x8eã\\x81¯ã\\x81\\x9dã\\x82\\x8cã\\x81\\x9eã\\x82\\x8cä¸\\x8bè¨\\x98ã\\x81®é\\x80\\x9aã\\x82\\x8aã\\x81§ã\\x81\\x99ã\\x80\\x82 [...] ã\\x83«ã\\x83¼ã\\x82¿ã\\x81®å½¹å\\x89²ã\\x82\\x92æ\\x8c\\x81ã\\x81¤é\\x96¢æ\\x95°ã\\x82\\x92æ\\x8c\\x87å®\\x9aã\\x81\\x97ã\\x80\\x81ã\\x81\\x9dã\\x82\\x8cã\\x81«ã\\x82\\x88ã\\x81£ã\\x81¦æ¬¡ã\\x81® Node ã\\x82\\x92æ±ºå®\\x9aã\\x81\\x95ã\\x81\\x9bã\\x82\\x8bã\\x81\\x93ã\\x81¨ã\\x81\\x8cã\\x81§ã\\x81\\x8dã\\x82\\x8b Edge ã\\x81§ã\\x81\\x99ã\\x80\\x82\\n\\nã\\x82°ã\\x83©ã\\x83\\x95ã\\x81®å®\\x9fè¡\\x8c\\n\\nã\\x82°ã\\x83©ã\\x83\\x95ã\\x82\\x92å®\\x9aç¾©ã\\x81\\x97ã\\x81\\x9fã\\x82\\x89ã\\x80\\x81å®\\x9fè¡\\x8cã\\x82\\x92ã\\x81\\x99ã\\x82\\x8bå\\x89\\x8dã\\x81«ã\\x82³ã\\x83³ã\\x83\\x91ã\\x82¤ã\\x83«ã\\x82\\x92è¡\\x8cã\\x81\\x86å¿\\x85è¦\\x81ã\\x81\\x8cã\\x81\\x82ã\\x82\\x8aã\\x81¾ã\\x81\\x99ã\\x80\\x82 [...] Node é\\x96\\x93ã\\x81®é\\x96¢ä¿\\x82ã\\x82\\x92ç¤ºã\\x81\\x99è¦\\x81ç´\\xa0ã\\x81§ã\\x80\\x81ã\\x81\\x93ã\\x82\\x8cã\\x81«ã\\x81¯ã\\x81\\x84ã\\x81\\x8fã\\x81¤ã\\x81\\x8bã\\x81®ç¨®é¡\\x9eã\\x81\\x8cç\\x94¨æ\\x84\\x8fã\\x81\\x95ã\\x82\\x8cã\\x81¦ã\\x81\\x84ã\\x81¾ã\\x81\\x99ã\\x80\\x82\\n\\nThe Starting Edge\\n\\nã\\x82°ã\\x83©ã\\x83\\x95ã\\x81®ã\\x82¨ã\\x83³ã\\x83\\x88ã\\x83ªã\\x83¼ã\\x83\\x9dã\\x82¤ã\\x83³ã\\x83\\x88ã\\x81¨ã\\x81\\x97ã\\x81¦ç\\x89¹å®\\x9aã\\x81® Node ã\\x82\\x92æ\\x8c\\x87å®\\x9aã\\x81\\x99ã\\x82\\x8bã\\x81\\x93ã\\x81¨ã\\x81\\x8cã\\x81§ã\\x81\\x8dã\\x82\\x8b Edge ã\\x81§ã\\x81\\x99ã\\x80\\x82ã\\x82°ã\\x83©ã\\x83\\x95ã\\x81«å\\x85¥å\\x8a\\x9bã\\x81\\x8cã\\x81\\x82ã\\x81£ã\\x81\\x9fé\\x9a\\x9bã\\x80\\x81å¿\\x85ã\\x81\\x9aæ\\x9c\\x80å\\x88\\x9dã\\x81«å\\x91¼ã\\x81³å\\x87ºã\\x81\\x95ã\\x82\\x8cã\\x82\\x8bã\\x82\\x88ã\\x81\\x86ã\\x81«ã\\x81ªã\\x82\\x8aã\\x81¾ã\\x81\\x99ã\\x80\\x82\\n\\nNormal Edge\\n\\nNodeA ã\\x81®å¾\\x8cã\\x81«å¸¸ã\\x81« NodeB ã\\x81\\x8cå\\x91¼ã\\x81°ã\\x82\\x8cã\\x82\\x8bã\\x82\\x88ã\\x81\\x86ã\\x81«æ\\x8c\\x87å®\\x9aã\\x81\\x99ã\\x82\\x8bã\\x81\\x93ã\\x81¨ã\\x81\\x8cã\\x81§ã\\x81\\x8dã\\x82\\x8b Edge ã\\x81§ã\\x81\\x99ã\\x80\\x82\\n\\nConditional Edge'}]"
      ]
     },
     "execution_count": 6,
     "metadata": {},
     "output_type": "execute_result"
    }
   ],
   "source": [
    "tool.invoke(\"Langgraphのノードとは？\")"
   ]
  },
  {
   "cell_type": "code",
   "execution_count": 7,
   "id": "94184d59",
   "metadata": {},
   "outputs": [
    {
     "data": {
      "text/plain": [
       "<langgraph.graph.state.StateGraph at 0x120255be0>"
      ]
     },
     "execution_count": 7,
     "metadata": {},
     "output_type": "execute_result"
    }
   ],
   "source": [
    "from typing import Annotated\n",
    "from typing_extensions import TypedDict\n",
    "from langgraph.graph import StateGraph\n",
    "from langgraph.graph.message import add_messages\n",
    "\n",
    "# Stateクラスの定義\n",
    "class State(TypedDict):\n",
    "    messages: Annotated[list, add_messages]\n",
    "\n",
    "# グラフのインスタンスを作成\n",
    "graph_builder = StateGraph(State)\n",
    "\n",
    "# 言語モデルの定義\n",
    "llm = ChatOpenAI(model_name=MODEL_NAME)\n",
    "\n",
    "# 変更点：ツール定義の紐づけ\n",
    "llm_with_tools = llm.bind_tools(tools)\n",
    "\n",
    "# チャットボットノードの作成\n",
    "def chatbot(state: State):\n",
    "    return {\"messages\": [llm_with_tools.invoke(state[\"messages\"])]}\n",
    "\n",
    "# グラフにチャットボットノードを追加\n",
    "graph_builder.add_node(\"chatbot\", chatbot)"
   ]
  },
  {
   "cell_type": "code",
   "execution_count": 8,
   "id": "e655b6d7",
   "metadata": {},
   "outputs": [],
   "source": [
    "from langgraph.prebuilt import ToolNode, tools_condition\n",
    "from langgraph.checkpoint.memory import MemorySaver\n",
    "\n",
    "# ツールノードの作成\n",
    "tool_node = ToolNode(tools)\n",
    "\n",
    "# グラフにツールノードを追加\n",
    "graph_builder.add_node(\"tools\", tool_node)\n",
    "\n",
    "# 条件付エッジの作成\n",
    "graph_builder.add_conditional_edges(\n",
    "    \"chatbot\",\n",
    "    tools_condition, # ツール呼出と判断したらツールノードを呼ぶ\n",
    ")\n",
    "\n",
    "# ツールが呼び出されるたびに、チャットボットに戻って次のステップを決定\n",
    "# ツールからチャットボットへの戻りエッジを作成\n",
    "graph_builder.add_edge(\"tools\", \"chatbot\")\n",
    "\n",
    "# 開始ノードの指定\n",
    "graph_builder.set_entry_point(\"chatbot\")\n",
    "\n",
    "# 記憶を持つ実行可能なステートグラフの作成\n",
    "memory = MemorySaver()\n",
    "graph = graph_builder.compile(checkpointer=memory)"
   ]
  },
  {
   "cell_type": "code",
   "execution_count": 9,
   "id": "d4748226",
   "metadata": {},
   "outputs": [
    {
     "data": {
      "image/png": "[encoded data removed]",
      "text/plain": [
       "<IPython.core.display.Image object>"
      ]
     },
     "metadata": {},
     "output_type": "display_data"
    }
   ],
   "source": [
    "# グラフの可視化\n",
    "from IPython.display import Image, display\n",
    "\n",
    "display(Image(graph.get_graph().draw_mermaid_png()))"
   ]
  },
  {
   "cell_type": "code",
   "execution_count": 10,
   "id": "5b0a7ab3",
   "metadata": {},
   "outputs": [
    {
     "name": "stdout",
     "output_type": "stream",
     "text": [
      "こんにちわ！\n",
      "こんにちは！どういったことをお手伝いできますか？\n",
      "1足す2は？\n",
      "1足す2は3です。何か他に質問がありますか？\n",
      "1メートル以上の魚は？\n",
      "\n",
      "[{\"url\": \"https://detail.chiebukuro.yahoo.co.jp/qa/question_detail/q14260099909\", \"content\": \"Yahoo!知恵袋\\n\\nJavaScriptが無効です。ブラウザの設定でJavaScriptを有効にしてください。JavaScriptを有効にするには\\n\\n回答受付が終了しました\\n\\nzka********さん\\n\\n2022/4/10 10:34\\n\\n44回答\\n\\n友人と琵琶湖でバス釣りをしていたら、余裕で1m以上の巨大な魚を見ました。かなり近くで見たのですが、ビワコオオナマズでも、コイでもありません。体の長さに対して太さはさほどありませんでした。\\n\\n友人と琵琶湖でバス釣りをしていたら、余裕で1m以上の巨大な魚を見ました。かなり近くで見たのですが、ビワコオオナマズでも、コイでもありません。体の長さに対して太さはさほどありませんでした。\\n肌色に近い体色をしていました。おそらくソウギョかなぁと思いましたが、琵琶湖でソウギョ見たことある方はいますか？\\r\\nまた、他の魚の可能性があるとしたら、何でしょうか？\\n\\n釣り・1,118閲覧\\n\\n1人が共感しています\\n\\n回答（4件）\\n\\nwedssport205さん\\n\\n2022/4/11 22:46 [...] 南湖東岸エリアか天神川付近ならアオウオですね。特に水面付近でヒレ立てて泳いでりゃ間違いなくアオウオ。\\n\\nこの回答はいかがでしたか？ リアクションしてみよう\\n\\nなるほど\\n\\n0\\n\\nそうだね\\n\\n0\\n\\nありがとう\\n\\n0\\n\\nzka********さん\\n\\n質問者2022/4/13 14:54\\n\\n夏にたまに見る、沖の方でジョーズのようにセビレを出してる巨大な魚はアオウオなんですね！！ただ、体色が肌色っぽかったんですよねぇ。\\n\\nID非表示さん\\n\\n2022/4/10 17:40\\n\\nアリゲーターガーの可能性もあるかと。\\n\\nなるほど\\n\\n0\\n\\nそうだね\\n\\n0\\n\\nありがとう\\n\\n0\\n\\nzka********さん\\n\\n質問者2022/4/10 18:07\\n\\nアリゲーターガーでは無かったです。\\n\\n白い暴動さん\\n\\n2022/4/10 14:48\\n\\nソウギョかレンギョじゃないの珍しいね、わたくしも先年珍しい光景を見ました湖北で琵琶マス見ましたよ！母なる湖、琵琶湖ですからねルアー釣り禁止などにならないようにしないとね！マナーは皆で守らないとね！\\n\\nなるほど\\n\\n0\\n\\nそうだね\\n\\n0\\n\\nありがとう\\n\\n0 [...] zka********さん\\n\\n質問者2022/4/10 18:09\\n\\nバス用のミノーで、ビワマスが釣れてしまった事がありました。\\n\\nfor********さん\\n\\n2022/4/10 11:35\\n\\n琵琶湖にはソウギョもアオウオもレンギョもいるよ。\\r\\n\\r\\n体の色からして、レンギョ（ハクレン）かも。\\n\\nなるほど\\n\\n0\\n\\nそうだね\\n\\n1\\n\\nありがとう\\n\\n0\\n\\nzka********さん\\n\\n質問者2022/4/10 18:09\\n\\nアオウオも、レンギョもいるんですね。知りませんでした。\\n\\nあわせて知りたい\\n\\n名張市毒ぶどう酒事件: 奥西勝が冤罪の可能性は何％だと思いますか？\\n\\nニュース、事件\\n\\n岐阜県の垂井町、関ヶ原周辺ブラックバスの釣れるポイントありましたら教えてください。\\n\\n釣り\\n\\nアオウオがいるポイントを見つけました。そいつを釣りたいのですが、そこのアオウオは陸から10〜20mくらいのとこに浮いています。サイズは1m前後 この場合どのような仕掛け、餌でやればいいですか？\\nタックルは雷魚タックルでやろうと思います。\\n\\n釣り\"}, {\"url\": \"https://tsurihack.com/8448\", \"content\": \"どの魚も、陸っぱりで狙えて最大全長が1mを超えるものばかり！\\n\\nお住まいの地域にこれからリストアップする魚が生息していたら、狙ってみてはいかがでしょうか。\\n\\n鯉｜もっとも手軽で簡単な大物\\n\\n難易度：★☆☆｜平均70cm、1m超えれば超絶レア\\n魚釣り初心者の方にオススメしたいのは食パンを使ったコイ釣りです！\\n\\n安・近・短で手軽に釣ることができ、ボウズ（釣果ゼロ）で終わってしまうリスクも少ないのがパンコイゲームの魅力ですね。\\n\\n▼食パンを使ったコイの釣り方はこちら！\\n針と餌だけのカンタン仕掛けで巨大魚が釣れる！？“パン鯉”に子供と挑戦してみました2023/04/27釣り好き！まっちゃん\\n\\n針と餌だけのカンタン仕掛けで巨大魚が釣れる！？“パン鯉”に子供と挑戦してみました\\n\\n2023/04/27釣り好き！まっちゃん\\n\\n1mを超えるコイは超絶レアですよ！\\n\\n\\n\\n身近な川魚のコイといえども最大サイズは1ｍを優に超え、コイを専門に狙う釣り人にとってメーター超えの巨鯉は一生に1匹でも良いから釣ってみたい憧れのサイズです。 [...] 最大で1mに迫るような大物を釣り狙う場合、例え身近な魚であっても釣り具の強度や仕掛け、ルアーの種類などをしっかり選ぶ必要があります。\\n\\n『この魚を釣ってみたい！』という確固たる目標を持って挑戦していく過程が大物釣り最大の醍醐味であり、準備や試行錯誤の期間が長い程、目標を手にした瞬間、つまり大物を釣り上げた瞬間の感動と達成感はなんとも言葉に表すことができないものになってきます。\\n\\n全身が震えたり、感情を抑えられず雄たけびやガッツポーズが出ちゃったりする……そんな体験を大人になっても味わえる。それが魚釣りの良い所だと僕は思っています。\\n\\n大物を釣り上げるまでの3ステップをお伝えします\\n\\nどんな大物を釣りたいか決めましょう\\n\\n\\n\\nまずは、自分の目標とする魚を設定しましょう。魚種でも良いですし、この魚の何センチ以上！　とかでも素敵な目標だと思います。\\n\\n他人に認められる魚とか、SNSでイイネをたくさんもらえそうな魚とかでも良いかもしれませんが、大切なのは、“自分が釣ってみたい魚や大きさ”を意識すること。\\n\\n僕はいつも、自分の好奇心と探求心を一番大切にするように心がけています。 [...] 魚の力強さを体感できる\\n\\n\\n\\n大物釣りの魅力のひとつに、魚達の力強さを一本の釣り糸を通して体感できることがあります。\\n\\nとくに1m、10kgを超えるような魚の重量感溢れるファイトで、身体が引っ張られるような感覚を一度味わうと病みつきになってしまいます。\\n\\nもちろん、魚の引きの強度やランディングに至るまでの難易度は魚種によってさまざま。今回の記事では、難易度別に魅力的な大物をご紹介していきます。\\n\\nまずは、僕が思う大物釣りの魅力からお届けします！\\n\\n迫力満点な写真が撮れます\\n\\n\\n\\n釣り上げた魚を抱えて撮る、記念写真も大物釣りの醍醐味のひとつと言えるでしょう。\\n\\n自分なりに苦労したり試行錯誤して釣り上げた大物の写真って、時間が経っても見返したくなるものです。\\n\\n\\n\\n時には魚体が大きすぎて陸に揚げられず、自ら水中に入って写真を撮るなんてこともよくあります。\\n\\n大物を狙っていると、“イッピキの価値に気が付くキッカケになり、釣り上げた魚を大切に扱いたい”と価値観が変わることもありますよ。\\n\\n“目標を持った魚釣りの魅力”をお伝えしたい\"}]\n",
      "1メートル以上の魚にはいくつかの種類があります。以下はその例です：\n",
      "\n",
      "1. **コイ** - 最大サイズは1メートルを超えることがありますが、1メートルを超えるのは非常にレアです。釣り初心者にも挑戦しやすい魚です。\n",
      "\n",
      "2. **ビワコオオナマズ** - 琵琶湖に生息するナマズで、1メートルを超える個体が見られることがあります。\n",
      "\n",
      "3. **アオウオ** - こちらも琵琶湖に生息しており、1メートルを超えることがあります。\n",
      "\n",
      "4. **アリゲーターガー** - 北米原産の大型魚で、1メートル以上に成長することがあります。\n",
      "\n",
      "詳しい情報を知りたい場合は、以下のリンクをご覧ください：\n",
      "- [Yahoo!知恵袋の質問](https://detail.chiebukuro.yahoo.co.jp/qa/question_detail/q14260099909)\n",
      "- [釣りハックの記事](https://tsurihack.com/8448)\n",
      "\n",
      "このような魚を釣る際には、適切な釣り具や仕掛けを選ぶことが重要です。興味があれば、ぜひ挑戦してみてください！\n",
      "ありがとうございました!\n"
     ]
    }
   ],
   "source": [
    "# グラフの実行と結果の表示\n",
    "def stream_graph_updates(user_input: str):\n",
    "    events = graph.stream(\n",
    "        {\"messages\": [(\"user\", user_input)]},\n",
    "        {\"configurable\": {\"thread_id\": \"1\"}},\n",
    "        stream_mode=\"values\")\n",
    "    # 結果をストリーミングで得る\n",
    "    for event in events:\n",
    "        print(event[\"messages\"][-1].content, flush=True)\n",
    "\n",
    "# チャットボットのループ\n",
    "while True:\n",
    "    user_input = input(\"質問:\")\n",
    "    if user_input.strip()==\"\":\n",
    "        print(\"ありがとうございました!\")\n",
    "        break\n",
    "    stream_graph_updates(user_input)\n"
   ]
  }
 ],
 "metadata": {
  "kernelspec": {
   "display_name": ".venv",
   "language": "python",
   "name": "python3"
  },
  "language_info": {
   "codemirror_mode": {
    "name": "ipython",
    "version": 3
   },
   "file_extension": ".py",
   "mimetype": "text/x-python",
   "name": "python",
   "nbconvert_exporter": "python",
   "pygments_lexer": "ipython3",
   "version": "3.12.7"
  }
 },
 "nbformat": 4,
 "nbformat_minor": 5
}
