{
 "cells": [
  {
   "cell_type": "code",
   "execution_count": 7,
   "id": "673d8822",
   "metadata": {},
   "outputs": [
    {
     "name": "stdout",
     "output_type": "stream",
     "text": [
      "送料は350円です\n",
      "送料込税込価格は1450円です\n"
     ]
    }
   ],
   "source": [
    "price_excluding_tax = int(input(\"税抜価格を入力してください：\"))\n",
    "price = int(price_excluding_tax * 1.1)\n",
    "\n",
    "if price >= 2000:\n",
    "    print(f\"送料は無料です\\n送料込税込価格は{price}円です\")\n",
    "else:\n",
    "    print(f\"送料は350円です\\n送料込税込価格は{price+350}円です\")\n",
    "\n"
   ]
  }
 ],
 "metadata": {
  "kernelspec": {
   "display_name": "Python 3",
   "language": "python",
   "name": "python3"
  },
  "language_info": {
   "codemirror_mode": {
    "name": "ipython",
    "version": 3
   },
   "file_extension": ".py",
   "mimetype": "text/x-python",
   "name": "python",
   "nbconvert_exporter": "python",
   "pygments_lexer": "ipython3",
   "version": "3.12.7"
  }
 },
 "nbformat": 4,
 "nbformat_minor": 5
}
