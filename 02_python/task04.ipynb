{
 "cells": [
  {
   "cell_type": "code",
   "execution_count": 10,
   "id": "ecc65c97",
   "metadata": {},
   "outputs": [
    {
     "name": "stdout",
     "output_type": "stream",
     "text": [
      "エラー: 数値を入力してください\n"
     ]
    }
   ],
   "source": [
    "try:\n",
    "    num1 = int(input(\"1つ目の数を入力してください: \"))\n",
    "    num2 = int(input(\"2つ目の数を入力してください: \"))\n",
    "    num1 /= num2\n",
    "except ZeroDivisionError:\n",
    "    print(\"エラー: 0で割ることはできません\")\n",
    "except ValueError:\n",
    "    print(\"エラー: 数値を入力してください\")\n",
    "else:\n",
    "    print(f\"計算結果: {num1:.1f}\")\n"
   ]
  }
 ],
 "metadata": {
  "kernelspec": {
   "display_name": "Python 3",
   "language": "python",
   "name": "python3"
  },
  "language_info": {
   "codemirror_mode": {
    "name": "ipython",
    "version": 3
   },
   "file_extension": ".py",
   "mimetype": "text/x-python",
   "name": "python",
   "nbconvert_exporter": "python",
   "pygments_lexer": "ipython3",
   "version": "3.12.7"
  }
 },
 "nbformat": 4,
 "nbformat_minor": 5
}
