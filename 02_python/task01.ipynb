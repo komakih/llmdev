{
 "cells": [
  {
   "cell_type": "code",
   "execution_count": 7,
   "id": "976e17b6",
   "metadata": {},
   "outputs": [
    {
     "name": "stdout",
     "output_type": "stream",
     "text": [
      "はじめまして、小牧宏史 と申します。\n",
      "年齢は 50 歳です。来年は 51 歳になります。\n",
      "よろしくお願いします。\n"
     ]
    }
   ],
   "source": [
    "# 自身の情報\n",
    "name = \"小牧宏史\"\n",
    "age = 50\n",
    "\n",
    "# 出力\n",
    "print(f\"はじめまして、{name} と申します。\")\n",
    "print(f\"年齢は {age} 歳です。来年は {age+1} 歳になります。\")\n",
    "print(f\"よろしくお願いします。\")"
   ]
  }
 ],
 "metadata": {
  "kernelspec": {
   "display_name": "Python 3",
   "language": "python",
   "name": "python3"
  },
  "language_info": {
   "codemirror_mode": {
    "name": "ipython",
    "version": 3
   },
   "file_extension": ".py",
   "mimetype": "text/x-python",
   "name": "python",
   "nbconvert_exporter": "python",
   "pygments_lexer": "ipython3",
   "version": "3.12.7"
  }
 },
 "nbformat": 4,
 "nbformat_minor": 5
}
