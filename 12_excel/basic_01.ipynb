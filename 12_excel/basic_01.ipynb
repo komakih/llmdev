{
 "cells": [
  {
   "cell_type": "code",
   "execution_count": 1,
   "id": "ad532178",
   "metadata": {},
   "outputs": [],
   "source": [
    "# 必要なモジュールをインポート\n",
    "import os\n",
    "from dotenv import load_dotenv\n",
    "from openai import OpenAI\n",
    "import pandas as pd\n",
    "\n",
    "# 環境変数の取得\n",
    "load_dotenv()\n",
    "\n",
    "# OpenAI APIクライアントを生成\n",
    "client = OpenAI(api_key=os.environ['API_KEY'])\n",
    "\n",
    "# モデル名\n",
    "MODEL_NAME = \"gpt-4o-mini\""
   ]
  },
  {
   "cell_type": "code",
   "execution_count": 2,
   "id": "5df97739",
   "metadata": {},
   "outputs": [
    {
     "data": {
      "text/html": [
       "<div>\n",
       "<style scoped>\n",
       "    .dataframe tbody tr th:only-of-type {\n",
       "        vertical-align: middle;\n",
       "    }\n",
       "\n",
       "    .dataframe tbody tr th {\n",
       "        vertical-align: top;\n",
       "    }\n",
       "\n",
       "    .dataframe thead th {\n",
       "        text-align: right;\n",
       "    }\n",
       "</style>\n",
       "<table border=\"1\" class=\"dataframe\">\n",
       "  <thead>\n",
       "    <tr style=\"text-align: right;\">\n",
       "      <th></th>\n",
       "      <th>カテゴリー</th>\n",
       "      <th>商品コード</th>\n",
       "      <th>商品名</th>\n",
       "      <th>売上日</th>\n",
       "      <th>単価</th>\n",
       "      <th>数量</th>\n",
       "      <th>原価</th>\n",
       "    </tr>\n",
       "  </thead>\n",
       "  <tbody>\n",
       "    <tr>\n",
       "      <th>0</th>\n",
       "      <td>食品</td>\n",
       "      <td>1001</td>\n",
       "      <td>りんご</td>\n",
       "      <td>2023-01-01</td>\n",
       "      <td>200</td>\n",
       "      <td>50</td>\n",
       "      <td>120</td>\n",
       "    </tr>\n",
       "    <tr>\n",
       "      <th>1</th>\n",
       "      <td>食品</td>\n",
       "      <td>1002</td>\n",
       "      <td>バナナ</td>\n",
       "      <td>2023-01-01</td>\n",
       "      <td>150</td>\n",
       "      <td>100</td>\n",
       "      <td>80</td>\n",
       "    </tr>\n",
       "    <tr>\n",
       "      <th>2</th>\n",
       "      <td>食品</td>\n",
       "      <td>1003</td>\n",
       "      <td>牛乳</td>\n",
       "      <td>2023-01-02</td>\n",
       "      <td>180</td>\n",
       "      <td>80</td>\n",
       "      <td>100</td>\n",
       "    </tr>\n",
       "    <tr>\n",
       "      <th>3</th>\n",
       "      <td>衣服</td>\n",
       "      <td>2001</td>\n",
       "      <td>Tシャツ</td>\n",
       "      <td>2023-01-02</td>\n",
       "      <td>1500</td>\n",
       "      <td>20</td>\n",
       "      <td>800</td>\n",
       "    </tr>\n",
       "    <tr>\n",
       "      <th>4</th>\n",
       "      <td>衣服</td>\n",
       "      <td>2002</td>\n",
       "      <td>ジーンズ</td>\n",
       "      <td>2023-01-03</td>\n",
       "      <td>5000</td>\n",
       "      <td>10</td>\n",
       "      <td>2500</td>\n",
       "    </tr>\n",
       "  </tbody>\n",
       "</table>\n",
       "</div>"
      ],
      "text/plain": [
       "  カテゴリー  商品コード   商品名        売上日    単価   数量    原価\n",
       "0    食品   1001   りんご 2023-01-01   200   50   120\n",
       "1    食品   1002   バナナ 2023-01-01   150  100    80\n",
       "2    食品   1003    牛乳 2023-01-02   180   80   100\n",
       "3    衣服   2001  Tシャツ 2023-01-02  1500   20   800\n",
       "4    衣服   2002  ジーンズ 2023-01-03  5000   10  2500"
      ]
     },
     "execution_count": 2,
     "metadata": {},
     "output_type": "execute_result"
    }
   ],
   "source": [
    "# 1. Excelファイルを読み込む\n",
    "df = pd.read_excel('サンプルデータ.xlsx', sheet_name='売上データ')\n",
    "# データフレームを表示して確認\n",
    "df.head()"
   ]
  },
  {
   "cell_type": "code",
   "execution_count": 3,
   "id": "0dc5fd1d",
   "metadata": {},
   "outputs": [
    {
     "name": "stdout",
     "output_type": "stream",
     "text": [
      "売上データ:\n",
      "    カテゴリー 商品コード      商品名         売上日    単価   数量    原価\n",
      "0      食品  1001      りんご  2023-01-01   200   50   120\n",
      "1      食品  1002      バナナ  2023-01-01   150  100    80\n",
      "2      食品  1003       牛乳  2023-01-02   180   80   100\n",
      "3      衣服  2001     Tシャツ  2023-01-02  1500   20   800\n",
      "4      衣服  2002     ジーンズ  2023-01-03  5000   10  2500\n",
      "..    ...   ...      ...         ...   ...  ...   ...\n",
      "235    衣服  2077   レインパンツ  2023-04-28  2000   18  1000\n",
      "236    食品  1085      ザクロ  2023-04-29   600   40   300\n",
      "237   日用品  3077    バスブラシ  2023-04-29   400   60   200\n",
      "238    衣服  2078  レインシューズ  2023-04-30  2500   15  1250\n",
      "239    食品  1086    ココナッツ  2023-04-30   300   80   150\n",
      "\n",
      "[240 rows x 7 columns]\n",
      "この売上データの傾向を分析してください。\n"
     ]
    }
   ],
   "source": [
    "# 2. データをLLM用にテキスト形式に変換\n",
    "# データフレーム全体を文字列に変換\n",
    "sales_data_text = df.astype(str)\n",
    "prompt_text = f\"売上データ:\\n{sales_data_text}\\nこの売上データの傾向を分析してください。\"\n",
    "# 表示して確認\n",
    "print(prompt_text)"
   ]
  },
  {
   "cell_type": "code",
   "execution_count": 4,
   "id": "134a0b3a",
   "metadata": {},
   "outputs": [
    {
     "name": "stdout",
     "output_type": "stream",
     "text": [
      "与えられた売上データを分析することで、以下のような傾向やインサイトが得られる可能性があります。\n",
      "\n",
      "### 1. カテゴリー別の売上傾向\n",
      "- **カテゴリー別売上**: 食品、衣服、日用品のカテゴリーに分かれているため、各カテゴリーの売上総額や販売数量を集計し、どのカテゴリーが最も売上を上げているかを特定できます。これにより、顧客の好みや需要に基づいて在庫や販売戦略を調整できます。\n",
      "\n",
      "### 2. 商品別のパフォーマンス\n",
      "- **人気商品**: 商品ごとの売上を計算し、最も売上が高い商品や最も売れた商品のランキングを作成できます。これにより、ヒット商品のプロモーションを強化したり、類似商品の開発を検討するための情報を得ることができます。\n",
      "\n",
      "### 3. 売上の季節性\n",
      "- **売上日分析**: 日付ごとの売上データを元に、時系列で分析を行うことで売上の季節性を確認できます。例えば、特定の季節や月に売上が増加する商品があるかもしれません。これを把握することで、販促活動のタイミングを最適化できます。\n",
      "\n",
      "### 4. 原価と利益分析\n",
      "- **原価と利益**: 売上、単価、原価を元に各商品の利益を計算し、どの商品の利益率が高いかを評価します。高利益商品に重点を置くことで、利益の最大化を図ることができます。\n",
      "\n",
      "### 5. 売上のトレンド\n",
      "- **トレンド分析**: 時間の経過とともに売上が増加しているのか、減少しているのかを確認します。顧客の関心の変化が売上にどのように影響しているかを分析することで、今後の戦略を立てることができます。\n",
      "\n",
      "### 6. クロスセリングの機会\n",
      "- **クロスセリングの可能性**: 商品の売上データを組み合わせて、どの組み合わせで購買されているのかを分析し、セット販売やプロモーションの提案を行うことができます。\n",
      "\n",
      "### 7. 地域別売上（拡張可能性）\n",
      "- 地域別に売上データがあれば、地域別の傾向を分析し、特定の地域でのプロモーション戦略を適用することができます。\n",
      "\n",
      "### 結論\n",
      "これらの傾向を基に戦略的な意思決定を行うことが重要です。データの視覚化や詳細な統計解析を実施することで、より深い洞察を得ることができるでしょう。また、顧客の声やフィードバックも取り入れ、これをデータ分析に活用することで、顧客満足度を向上させることが可能です。\n"
     ]
    }
   ],
   "source": [
    "# 3. OpenAI APIの呼び出し\n",
    "\n",
    "# 役割を設定\n",
    "role = \"あなたはマーケティング分野に精通したデータサイエンティストです。企業の成長をサポートするために、効果的なインサイトを提供します。\"\n",
    "\n",
    "# APIへリクエスト\n",
    "response = client.chat.completions.create(\n",
    "    model=MODEL_NAME,\n",
    "    messages=[\n",
    "        {\"role\": \"system\", \"content\": role},\n",
    "        {\"role\": \"user\", \"content\": prompt_text},\n",
    "    ],\n",
    ")\n",
    "\n",
    "# LLMからの回答を表示\n",
    "print(response.choices[0].message.content.strip())"
   ]
  },
  {
   "cell_type": "code",
   "execution_count": 5,
   "id": "65f517df",
   "metadata": {},
   "outputs": [
    {
     "name": "stdout",
     "output_type": "stream",
     "text": [
      "                                                   結果\n",
      "0     与えられた売上データを分析することで、以下のような傾向やインサイトが得られる可能性があります。\n",
      "1                                                    \n",
      "2                                  ### 1. カテゴリー別の売上傾向\n",
      "3   - **カテゴリー別売上**: 食品、衣服、日用品のカテゴリーに分かれているため、各カテゴリ...\n",
      "4                                                    \n",
      "5                                  ### 2. 商品別のパフォーマンス\n",
      "6   - **人気商品**: 商品ごとの売上を計算し、最も売上が高い商品や最も売れた商品のランキン...\n",
      "7                                                    \n",
      "8                                       ### 3. 売上の季節性\n",
      "9   - **売上日分析**: 日付ごとの売上データを元に、時系列で分析を行うことで売上の季節性を...\n",
      "10                                                   \n",
      "11                                     ### 4. 原価と利益分析\n",
      "12  - **原価と利益**: 売上、単価、原価を元に各商品の利益を計算し、どの商品の利益率が高い...\n",
      "13                                                   \n",
      "14                                     ### 5. 売上のトレンド\n",
      "15  - **トレンド分析**: 時間の経過とともに売上が増加しているのか、減少しているのかを確認...\n",
      "16                                                   \n",
      "17                                  ### 6. クロスセリングの機会\n",
      "18  - **クロスセリングの可能性**: 商品の売上データを組み合わせて、どの組み合わせで購買さ...\n",
      "19                                                   \n",
      "20                                ### 7. 地域別売上（拡張可能性）\n",
      "21  - 地域別に売上データがあれば、地域別の傾向を分析し、特定の地域でのプロモーション戦略を適用...\n",
      "22                                                   \n",
      "23                                             ### 結論\n",
      "24  これらの傾向を基に戦略的な意思決定を行うことが重要です。データの視覚化や詳細な統計解析を実施...\n"
     ]
    }
   ],
   "source": [
    "# 4. 分析結果をデータフレームに変換\n",
    "result_list = response.choices[0].message.content.strip().split(\"\\n\")\n",
    "df_out = pd.DataFrame(result_list, columns=['結果'])\n",
    "print(df_out)"
   ]
  },
  {
   "cell_type": "code",
   "execution_count": 6,
   "id": "214cd839",
   "metadata": {},
   "outputs": [],
   "source": [
    "# 5. 結果をExcelファイルに保存\n",
    "df_out.to_excel(\"売上データ分析結果.xlsx\", index=False)"
   ]
  },
  {
   "cell_type": "code",
   "execution_count": 7,
   "id": "0f0a2cac",
   "metadata": {},
   "outputs": [
    {
     "name": "stdout",
     "output_type": "stream",
     "text": [
      "処理を開始します。\n",
      "Excelファイルに分析結果を保存しました。\n"
     ]
    }
   ],
   "source": [
    "# ワークフロー化\n",
    "print(\"処理を開始します。\")\n",
    "\n",
    "# 1. Excelファイルを読み込む\n",
    "df = pd.read_excel('サンプルデータ.xlsx', sheet_name='売上データ')\n",
    "\n",
    "# 2. データをLLM用にテキスト形式に変換\n",
    "sales_data_text = df.astype(str)\n",
    "prompt_text = f\"売上データ:\\n{sales_data_text}\\nこの売上データの傾向を分析してください。\"\n",
    "\n",
    "# 3. OpenAI APIの呼び出し\n",
    "# 役割を設定\n",
    "role = \"あなたはマーケティング分野に精通したデータサイエンティストです。企業の成長をサポートするために、効果的なインサイトを提供します。\"\n",
    "# APIへリクエスト\n",
    "response = client.chat.completions.create(\n",
    "    model=MODEL_NAME,\n",
    "    messages=[\n",
    "        {\"role\": \"system\", \"content\": role},\n",
    "        {\"role\": \"user\", \"content\": prompt_text},\n",
    "    ],\n",
    ")\n",
    "\n",
    "# 4. 分析結果をデータフレームに変換\n",
    "result_list = response.choices[0].message.content.strip().split(\"\\n\")\n",
    "df_out = pd.DataFrame(result_list, columns=['結果'])\n",
    "\n",
    "# 5. 結果をExcelファイルに保存\n",
    "df_out.to_excel(\"売上データ分析結果.xlsx\", index=False)\n",
    "\n",
    "print(\"Excelファイルに分析結果を保存しました。\")"
   ]
  }
 ],
 "metadata": {
  "kernelspec": {
   "display_name": ".venv",
   "language": "python",
   "name": "python3"
  },
  "language_info": {
   "codemirror_mode": {
    "name": "ipython",
    "version": 3
   },
   "file_extension": ".py",
   "mimetype": "text/x-python",
   "name": "python",
   "nbconvert_exporter": "python",
   "pygments_lexer": "ipython3",
   "version": "3.12.7"
  }
 },
 "nbformat": 4,
 "nbformat_minor": 5
}
