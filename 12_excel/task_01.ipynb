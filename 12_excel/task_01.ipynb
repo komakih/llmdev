{
 "cells": [
  {
   "cell_type": "code",
   "execution_count": 1,
   "id": "6a677413",
   "metadata": {},
   "outputs": [],
   "source": [
    "# 必要なモジュールをインポート\n",
    "import os\n",
    "import json\n",
    "from dotenv import load_dotenv\n",
    "from openai import OpenAI\n",
    "import pandas as pd\n",
    "\n",
    "# 環境変数の取得\n",
    "load_dotenv()\n",
    "\n",
    "# OpenAI APIクライアントを生成\n",
    "client = OpenAI(api_key=os.environ['API_KEY'])\n",
    "\n",
    "# モデル名\n",
    "MODEL_NAME = \"gpt-4o-mini\""
   ]
  },
  {
   "cell_type": "code",
   "execution_count": null,
   "id": "4b3c2477",
   "metadata": {},
   "outputs": [
    {
     "name": "stdout",
     "output_type": "stream",
     "text": [
      "脆弱性情報:\n",
      "   サービス リポジトリ                                          検出された脆弱性     レベル  \\\n",
      "0     A     a  SNYK-JAVA-ORGAPACHEHTTPCOMPONENTSCLIENT5-9804209    high   \n",
      "1     A     a          SNYK-JAVA-ORGSPRINGFRAMEWORKBOOT-9804539  medium   \n",
      "2     A     a            SNYK-JAVA-ORGAPACHETOMCATEMBED-9905132    high   \n",
      "3     A     a            SNYK-JAVA-ORGAPACHETOMCATEMBED-9905136  medium   \n",
      "4     A     b  SNYK-JAVA-ORGAPACHEHTTPCOMPONENTSCLIENT5-9804209    high   \n",
      "..  ...   ...                                               ...     ...   \n",
      "87    D     t            SNYK-JAVA-ORGAPACHETOMCATEMBED-9905136  medium   \n",
      "88    D     u  SNYK-JAVA-ORGAPACHEHTTPCOMPONENTSCLIENT5-9804209    high   \n",
      "89    D     u          SNYK-JAVA-ORGSPRINGFRAMEWORKBOOT-9804539  medium   \n",
      "90    D     u            SNYK-JAVA-ORGAPACHETOMCATEMBED-9905132    high   \n",
      "91    D     u            SNYK-JAVA-ORGAPACHETOMCATEMBED-9905136  medium   \n",
      "\n",
      "   対応パッチの有無         公開日        対応期限 対応予定日      対応者 対応完了日   備考  \n",
      "0         有  2025/04/24  2025/05/31   nan  サービス担当者   nan  nan  \n",
      "1         有  2025/04/24  2025/07/31   nan  サービス担当者   nan  nan  \n",
      "2         有  2025/04/28  2025/05/31   nan  サービス担当者   nan  nan  \n",
      "3         有  2025/04/28  2025/07/31   nan  サービス担当者   nan  nan  \n",
      "4         有  2025/04/24  2025/05/31   nan  サービス担当者   nan  nan  \n",
      "..      ...         ...         ...   ...      ...   ...  ...  \n",
      "87        有  2025/04/28  2025/07/31   nan  サービス担当者   nan  nan  \n",
      "88        有  2025/04/24  2025/05/31   nan  サービス担当者   nan  nan  \n",
      "89        有  2025/04/24  2025/07/31   nan  サービス担当者   nan  nan  \n",
      "90        有  2025/04/28  2025/05/31   nan  サービス担当者   nan  nan  \n",
      "91        有  2025/04/28  2025/07/31   nan  サービス担当者   nan  nan  \n",
      "\n",
      "[92 rows x 11 columns]\n",
      "レベルHigh脆弱性の原因になっているパッケージを教えてください。\n"
     ]
    }
   ],
   "source": [
    "# Excelファイルを読み込む\n",
    "df = pd.read_excel('sample.xlsx')\n",
    "\n",
    "# データフレーム全体を文字列に変換\n",
    "vulnerability_data_text = df.astype(str)\n",
    "prompt_text = f\"脆弱性情報:\\n{vulnerability_data_text}\\nレベルHigh脆弱性の原因になっているパッケージを教えてください。\"\n",
    "\n",
    "# 表示して確認\n",
    "print(prompt_text)"
   ]
  },
  {
   "cell_type": "code",
   "execution_count": null,
   "id": "4bbe280a",
   "metadata": {},
   "outputs": [
    {
     "name": "stdout",
     "output_type": "stream",
     "text": [
      "提供された脆弱性情報から、レベルが「high」とされている脆弱性に関連するパッケージは以下の通りです：\n",
      "\n",
      "1. **SNYK-JAVA-ORGAPACHEHTTPCOMPONENTSCLIENT5-9804209**\n",
      "   - サービス A, リポジトリ a\n",
      "   - サービス A, リポジトリ b\n",
      "   - サービス D, リポジトリ u\n",
      "\n",
      "2. **SNYK-JAVA-ORGAPACHETOMCATEMBED-9905132**\n",
      "   - サービス A, リポジトリ a\n",
      "   - サービス D, リポジトリ u\n",
      "\n",
      "3. **SNYK-JAVA-ORGAPACHETOMCATEMBED-9905136**\n",
      "   - サービス A, リポジトリ a\n",
      "   - サービス A, リポジトリ a\n",
      "   - サービス D, リポジトリ t\n",
      "   - サービス D, リポジトリ u\n",
      "\n",
      "この情報から、特に「高」レベルの脆弱性の原因となっているパッケージは、主に `ORGAPACHEHTTPCOMPONENTSCLIENT5` および `ORGAPACHETOMCATEMBED` です。\n",
      "\n",
      "これらの脆弱性に対して、適切なパッチが存在し、今後の対応が必要です。各パッケージに対して、適用可能なパッチや対策を検討することが重要です。\n"
     ]
    }
   ],
   "source": [
    "# OpenAI APIの呼び出し\n",
    "\n",
    "# 役割を設定\n",
    "role = \"あなたはjavaエンジニアです。\"\n",
    "\n",
    "# APIへリクエスト\n",
    "response = client.chat.completions.create(\n",
    "    model=MODEL_NAME,\n",
    "    messages=[\n",
    "        {\"role\": \"system\", \"content\": role},\n",
    "        {\"role\": \"user\", \"content\": prompt_text},\n",
    "    ],\n",
    ")\n",
    "\n",
    "# LLMからの回答を表示\n",
    "print(response.choices[0].message.content.strip())"
   ]
  }
 ],
 "metadata": {
  "kernelspec": {
   "display_name": ".venv",
   "language": "python",
   "name": "python3"
  },
  "language_info": {
   "codemirror_mode": {
    "name": "ipython",
    "version": 3
   },
   "file_extension": ".py",
   "mimetype": "text/x-python",
   "name": "python",
   "nbconvert_exporter": "python",
   "pygments_lexer": "ipython3",
   "version": "3.12.7"
  }
 },
 "nbformat": 4,
 "nbformat_minor": 5
}
