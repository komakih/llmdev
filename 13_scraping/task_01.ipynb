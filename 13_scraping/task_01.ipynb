{
 "cells": [
  {
   "cell_type": "code",
   "execution_count": 27,
   "id": "62b955be",
   "metadata": {},
   "outputs": [],
   "source": [
    "# 必要なモジュールをインポート\n",
    "import os\n",
    "import json\n",
    "import pandas as pd\n",
    "import requests\n",
    "from dotenv import load_dotenv\n",
    "from openai import OpenAI\n",
    "from bs4 import BeautifulSoup\n",
    "\n",
    "# 環境変数の取得\n",
    "load_dotenv()\n",
    "\n",
    "# OpenAI APIクライアントを生成\n",
    "client = OpenAI(api_key=os.environ['API_KEY'])\n",
    "\n",
    "# モデル名\n",
    "MODEL_NAME = \"gpt-4o-mini\""
   ]
  },
  {
   "cell_type": "code",
   "execution_count": 48,
   "id": "ea74c944",
   "metadata": {},
   "outputs": [
    {
     "name": "stdout",
     "output_type": "stream",
     "text": [
      "```\n",
      "Date: 2025-04-30\n",
      "Title: Improper Cleanup on Thrown Exception\n",
      "Reason: org.apache.tomcat.embed:tomcat-embed-core\n",
      "```\n",
      "```\n",
      "Date: 2025-04-24\n",
      "Title: Improper Certificate Validation\n",
      "Reason: org.apache.httpcomponents.client5:httpclient5\n",
      "```\n",
      "```\n",
      "Date: 2025-03-09\n",
      "Title: Path Equivalence\n",
      "Reason: org.apache.tomcat.embed:tomcat-embed-core\n",
      "```\n"
     ]
    }
   ],
   "source": [
    "# Excelファイルを読み込む\n",
    "df = pd.read_excel('../12_excel/sample.xlsx')\n",
    "\n",
    "# 各脆弱性IDの発生頻度をカウントする\n",
    "high_vulnerabilities = df[df['レベル'] == 'high']\n",
    "vulnerability_counts = high_vulnerabilities['検出された脆弱性'].value_counts()\n",
    "\n",
    "# 上位3つを抽出\n",
    "top3_vulnerabilities = vulnerability_counts.head(3)\n",
    "\n",
    "body_url = \"\"\n",
    "for vuln_id, count in top3_vulnerabilities.items():\n",
    "    url = f\"https://security.snyk.io/vuln/{vuln_id}\"\n",
    "    \n",
    "    response = requests.get(url)\n",
    "    response.encoding = response.apparent_encoding\n",
    "\n",
    "    soup = BeautifulSoup(response.text, \"html.parser\")\n",
    "    body_html = str(soup.body)\n",
    "\n",
    "    prompt = f\"\"\"\n",
    "    以下のHTMLから脆弱性の原因パッケージ名を抽出し「検知日、脆弱性名、原因パッケージ」の形式で一覧を出力してください。一覧以外は出力しないでください。\n",
    "    # 出力様式：\n",
    "    Date: 検知日\n",
    "    Title: 脆弱性名\n",
    "    Reason: 原因パッケージ\n",
    "    --------------------\n",
    "    #HTML:\n",
    "    {body_html}\n",
    "    \"\"\"\n",
    "\n",
    "    # APIへリクエスト\n",
    "    response = client.chat.completions.create(\n",
    "        model=MODEL_NAME,\n",
    "        messages=[\n",
    "            {\"role\": \"user\", \"content\": prompt},\n",
    "        ],\n",
    "        max_tokens=5000,\n",
    "        temperature=1\n",
    "    )\n",
    "\n",
    "    # LLMからの回答を表示\n",
    "    print(response.choices[0].message.content.strip())\n"
   ]
  }
 ],
 "metadata": {
  "kernelspec": {
   "display_name": ".venv",
   "language": "python",
   "name": "python3"
  },
  "language_info": {
   "codemirror_mode": {
    "name": "ipython",
    "version": 3
   },
   "file_extension": ".py",
   "mimetype": "text/x-python",
   "name": "python",
   "nbconvert_exporter": "python",
   "pygments_lexer": "ipython3",
   "version": "3.12.7"
  }
 },
 "nbformat": 4,
 "nbformat_minor": 5
}
