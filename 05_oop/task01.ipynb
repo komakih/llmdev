{
 "cells": [
  {
   "cell_type": "code",
   "execution_count": 23,
   "id": "b770c325",
   "metadata": {},
   "outputs": [],
   "source": [
    "class BankAccount:\n",
    "    def __init__(self, balance=1000):\n",
    "        self.__balance = balance\n",
    "\n",
    "    # 残高表示\n",
    "    def get_balance(self):\n",
    "        return self.__balance\n",
    "    \n",
    "    # 預け入れ\n",
    "    def deposit(self, amount):\n",
    "        if amount > 0:\n",
    "            self.__balance += amount\n",
    "        else:\n",
    "            print(\"エラー: 正しい金額を入力してください\")\n",
    "\n",
    "    # 引き出し\n",
    "    def withdraw(self, amount):\n",
    "        if amount > 0 and self.__balance > amount:\n",
    "            self.__balance -= amount\n",
    "        else:\n",
    "            print(\"エラー: 残高不足または無効な金額です。\")"
   ]
  },
  {
   "cell_type": "code",
   "execution_count": 24,
   "id": "4b00492f",
   "metadata": {},
   "outputs": [
    {
     "name": "stdout",
     "output_type": "stream",
     "text": [
      "1300\n",
      "エラー: 残高不足または無効な金額です。\n"
     ]
    }
   ],
   "source": [
    "money = BankAccount()\n",
    "money.deposit(500)\n",
    "money.withdraw(200)\n",
    "print(f\"{money.get_balance()}\")\n",
    "money.withdraw(1500)"
   ]
  },
  {
   "cell_type": "code",
   "execution_count": 25,
   "id": "ed7679c7",
   "metadata": {},
   "outputs": [
    {
     "name": "stdout",
     "output_type": "stream",
     "text": [
      "エラー: 正しい金額を入力してください\n"
     ]
    }
   ],
   "source": [
    "money = BankAccount()\n",
    "money.deposit(-500)"
   ]
  }
 ],
 "metadata": {
  "kernelspec": {
   "display_name": "Python 3",
   "language": "python",
   "name": "python3"
  },
  "language_info": {
   "codemirror_mode": {
    "name": "ipython",
    "version": 3
   },
   "file_extension": ".py",
   "mimetype": "text/x-python",
   "name": "python",
   "nbconvert_exporter": "python",
   "pygments_lexer": "ipython3",
   "version": "3.12.7"
  }
 },
 "nbformat": 4,
 "nbformat_minor": 5
}
