{
 "cells": [
  {
   "cell_type": "code",
   "execution_count": 1,
   "id": "84717eba",
   "metadata": {},
   "outputs": [],
   "source": [
    "with open(\"sample.txt\", \"w\") as file:\n",
    "    file.write(\"Hello, World!\")"
   ]
  },
  {
   "cell_type": "code",
   "execution_count": 2,
   "id": "6f6fc5bc",
   "metadata": {},
   "outputs": [],
   "source": [
    "lines = [\"First line\\n\", \"Second line\\n\", \"Third line\\n\"]\n",
    "with open(\"sample.txt\", \"w\") as file:\n",
    "    file.writelines(lines)"
   ]
  },
  {
   "cell_type": "code",
   "execution_count": 3,
   "id": "4f1b7e52",
   "metadata": {},
   "outputs": [
    {
     "name": "stdout",
     "output_type": "stream",
     "text": [
      "First line\n",
      "Second line\n",
      "Third line\n",
      "\n"
     ]
    }
   ],
   "source": [
    "with open(\"sample.txt\", \"r\") as file:\n",
    "    data = file.read()\n",
    "    print(data)"
   ]
  },
  {
   "cell_type": "code",
   "execution_count": 4,
   "id": "012ccedb",
   "metadata": {},
   "outputs": [
    {
     "name": "stdout",
     "output_type": "stream",
     "text": [
      "0:First line\n",
      "1:Second line\n",
      "2:Third line\n"
     ]
    }
   ],
   "source": [
    "with open(\"sample.txt\", \"r\") as file:\n",
    "    lines = file.readlines()\n",
    "    for index, line in enumerate(lines):\n",
    "        print(f\"{index}:{line.strip()}\")"
   ]
  },
  {
   "cell_type": "code",
   "execution_count": 5,
   "id": "707fdaaa",
   "metadata": {},
   "outputs": [
    {
     "name": "stdout",
     "output_type": "stream",
     "text": [
      "First line\n",
      "Second line\n",
      "Third line\n"
     ]
    }
   ],
   "source": [
    "with open(\"sample.txt\", \"r\") as file:\n",
    "    for line in file:\n",
    "        print(line.strip())"
   ]
  },
  {
   "cell_type": "code",
   "execution_count": 6,
   "id": "ae2f345f",
   "metadata": {},
   "outputs": [],
   "source": [
    "import csv\n",
    "\n",
    "data = [\n",
    "    [\"name\", \"age\", \"city\"],\n",
    "    [\"Alice\", \"30\", \"New York\"],\n",
    "    [\"Bob\", \"25\", \"Los Angeles\"],\n",
    "    [\"Charlie\", \"35\", \"Chicago\"]\n",
    "]\n",
    "\n",
    "with open(\"sample1.csv\", mode=\"w\", encoding=\"utf-8\", newline=\"\") as file:\n",
    "    writer = csv.writer(file)\n",
    "    writer.writerows(data)"
   ]
  },
  {
   "cell_type": "code",
   "execution_count": 7,
   "id": "ff1c434d",
   "metadata": {},
   "outputs": [],
   "source": [
    "import csv\n",
    "\n",
    "data = [\n",
    "    {\"name\": \"Alice\", \"age\": \"30\", \"city\": \"New York\"},\n",
    "    {\"name\": \"Bob\", \"age\": \"25\", \"city\": \"Los Angeles\"},\n",
    "    {\"name\": \"Charlie\", \"age\": \"35\", \"city\": \"Chicago\"}\n",
    "]\n",
    "\n",
    "with open(\"sample2.csv\", mode=\"w\", encoding=\"utf-8\", newline=\"\") as file:\n",
    "    fieldnames = [\"name\", \"age\", \"city\"]\n",
    "    writer = csv.DictWriter(file, fieldnames=fieldnames)\n",
    "    \n",
    "    writer.writeheader()  # ヘッダー行を書き込む\n",
    "    writer.writerows(data)"
   ]
  },
  {
   "cell_type": "code",
   "execution_count": 8,
   "id": "9a49f97e",
   "metadata": {},
   "outputs": [
    {
     "name": "stdout",
     "output_type": "stream",
     "text": [
      "['name', 'age', 'city']\n",
      "['Alice', '30', 'New York']\n",
      "['Bob', '25', 'Los Angeles']\n",
      "['Charlie', '35', 'Chicago']\n"
     ]
    }
   ],
   "source": [
    "import csv\n",
    "\n",
    "with open(\"sample1.csv\", mode=\"r\", encoding=\"utf-8\") as file:\n",
    "    reader = csv.reader(file)\n",
    "    for row in reader:\n",
    "        print(row)"
   ]
  },
  {
   "cell_type": "code",
   "execution_count": 9,
   "id": "065615d3",
   "metadata": {},
   "outputs": [
    {
     "name": "stdout",
     "output_type": "stream",
     "text": [
      "{'name': 'Alice', 'age': '30', 'city': 'New York'}\n",
      "{'name': 'Bob', 'age': '25', 'city': 'Los Angeles'}\n",
      "{'name': 'Charlie', 'age': '35', 'city': 'Chicago'}\n"
     ]
    }
   ],
   "source": [
    "import csv\n",
    "\n",
    "with open(\"sample2.csv\", mode=\"r\", encoding=\"utf-8\") as file:\n",
    "    reader = csv.DictReader(file)\n",
    "    for row in reader:\n",
    "        print(row)"
   ]
  },
  {
   "cell_type": "code",
   "execution_count": 10,
   "id": "1978f0b9",
   "metadata": {},
   "outputs": [],
   "source": [
    "import json\n",
    "\n",
    "data = {\n",
    "    \"name\": \"Alice\",\n",
    "    \"age\": 30,\n",
    "    \"city\": \"New York\",\n",
    "    \"hobbies\": [\"reading\", \"traveling\", \"coding\"]\n",
    "}\n",
    "\n",
    "with open(\"data.json\", mode=\"w\", encoding=\"utf-8\") as file:\n",
    "    json.dump(data, file, indent=4)"
   ]
  },
  {
   "cell_type": "code",
   "execution_count": 11,
   "id": "56842250",
   "metadata": {},
   "outputs": [
    {
     "name": "stdout",
     "output_type": "stream",
     "text": [
      "{'name': 'Alice', 'age': 30, 'city': 'New York', 'hobbies': ['reading', 'traveling', 'coding']}\n",
      "<class 'dict'>\n",
      "Alice\n"
     ]
    }
   ],
   "source": [
    "import json\n",
    "\n",
    "with open(\"data.json\", mode=\"r\", encoding=\"utf-8\") as file:\n",
    "    data = json.load(file)\n",
    "    print(data)\n",
    "    print(type(data)) # <class 'dict'>\n",
    "    print(data[\"name\"]) # Alice"
   ]
  }
 ],
 "metadata": {
  "kernelspec": {
   "display_name": "Python 3",
   "language": "python",
   "name": "python3"
  },
  "language_info": {
   "codemirror_mode": {
    "name": "ipython",
    "version": 3
   },
   "file_extension": ".py",
   "mimetype": "text/x-python",
   "name": "python",
   "nbconvert_exporter": "python",
   "pygments_lexer": "ipython3",
   "version": "3.12.7"
  }
 },
 "nbformat": 4,
 "nbformat_minor": 5
}
