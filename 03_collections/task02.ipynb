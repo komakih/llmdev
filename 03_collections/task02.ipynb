{
 "cells": [
  {
   "cell_type": "code",
   "execution_count": 6,
   "id": "0bd72ee1",
   "metadata": {},
   "outputs": [
    {
     "name": "stdout",
     "output_type": "stream",
     "text": [
      "入力した英単語： ['bear', 'cat', 'dog', 'giraffe', 'horse', 'kangaroo']\n",
      "aが5個ありました\n",
      "bが1個ありました\n",
      "cが1個ありました\n",
      "dが1個ありました\n",
      "eが3個ありました\n",
      "fが2個ありました\n",
      "gが3個ありました\n",
      "hが1個ありました\n",
      "iが1個ありました\n",
      "kが1個ありました\n",
      "nが1個ありました\n",
      "oが4個ありました\n",
      "rが4個ありました\n",
      "sが1個ありました\n",
      "tが1個ありました\n"
     ]
    }
   ],
   "source": [
    "# 空のリスト作成\n",
    "english_words = {}\n",
    "\n",
    "# アルファベットごとの数を格納する辞書作成\n",
    "alphabet = 'abcdefghijklmnopqrstuvwxyz'\n",
    "english_words = {alphabet[i]: 0 for i in range(len(alphabet))}\n",
    "\n",
    "# 英単語の入力の受付を繰り返す\n",
    "input_words = []\n",
    "while True:\n",
    "    word = str(input(\"英単語を入力してください：\"))\n",
    "\n",
    "    if word == \"\":\n",
    "        break\n",
    "    \n",
    "    input_words.append(word)\n",
    "\n",
    "    for character in word.lower():\n",
    "        if character in english_words:\n",
    "            english_words[character] += 1\n",
    "\n",
    "# 英単語のリストをABC順に並び替え\n",
    "input_words.sort()\n",
    "\n",
    "# 英単語のリストを一覧表示する\n",
    "print(f\"入力した英単語： {input_words}\")\n",
    "\n",
    "# アルファベットごとの数を表示\n",
    "for key, value in english_words.items():\n",
    "    if value > 0:\n",
    "        print(f\"{key}が{value}個ありました\")"
   ]
  }
 ],
 "metadata": {
  "kernelspec": {
   "display_name": "Python 3",
   "language": "python",
   "name": "python3"
  },
  "language_info": {
   "codemirror_mode": {
    "name": "ipython",
    "version": 3
   },
   "file_extension": ".py",
   "mimetype": "text/x-python",
   "name": "python",
   "nbconvert_exporter": "python",
   "pygments_lexer": "ipython3",
   "version": "3.12.7"
  }
 },
 "nbformat": 4,
 "nbformat_minor": 5
}
