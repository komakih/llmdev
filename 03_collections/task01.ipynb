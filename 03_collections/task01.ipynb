{
 "cells": [
  {
   "cell_type": "markdown",
   "id": "70db1633",
   "metadata": {},
   "source": [
    "成績リストが [85, 90, 78, 92, 88] の場合"
   ]
  },
  {
   "cell_type": "code",
   "execution_count": null,
   "id": "902b3dd7",
   "metadata": {},
   "outputs": [
    {
     "name": "stdout",
     "output_type": "stream",
     "text": [
      "平均点： 80.0\n",
      "最高点： 90\n",
      "最低点： 70\n",
      "平均以上の学生数： 3\n"
     ]
    }
   ],
   "source": [
    "grades = [85, 90, 78, 92, 88]\n",
    "\n",
    "average = sum(grades) / len(grades)\n",
    "above_average_count = 0\n",
    "for i in grades:\n",
    "    if i >= average:\n",
    "        above_average_count += 1\n",
    "\n",
    "print(f\"平均点： {average:.1f}\")\n",
    "print(f\"最高点： {max(grades)}\")\n",
    "print(f\"最低点： {min(grades)}\")\n",
    "print(f\"平均以上の学生数： {above_average_count}\")"
   ]
  },
  {
   "cell_type": "markdown",
   "id": "d61f68fe",
   "metadata": {},
   "source": [
    "成績リストが [70, 75, 80, 85, 90] の場合"
   ]
  },
  {
   "cell_type": "code",
   "execution_count": 13,
   "id": "585397f7",
   "metadata": {},
   "outputs": [
    {
     "name": "stdout",
     "output_type": "stream",
     "text": [
      "平均点： 80.0\n",
      "最高点： 90\n",
      "最低点： 70\n",
      "平均以上の学生数： 3\n"
     ]
    }
   ],
   "source": [
    "grades = [70, 75, 80, 85, 90]\n",
    "\n",
    "average = sum(grades) / len(grades)\n",
    "above_average_count = 0\n",
    "for i in grades:\n",
    "    if i >= average:\n",
    "        above_average_count += 1\n",
    "\n",
    "print(f\"平均点： {average:.1f}\")\n",
    "print(f\"最高点： {max(grades)}\")\n",
    "print(f\"最低点： {min(grades)}\")\n",
    "print(f\"平均以上の学生数： {above_average_count}\")"
   ]
  }
 ],
 "metadata": {
  "kernelspec": {
   "display_name": "Python 3",
   "language": "python",
   "name": "python3"
  },
  "language_info": {
   "codemirror_mode": {
    "name": "ipython",
    "version": 3
   },
   "file_extension": ".py",
   "mimetype": "text/x-python",
   "name": "python",
   "nbconvert_exporter": "python",
   "pygments_lexer": "ipython3",
   "version": "3.12.7"
  }
 },
 "nbformat": 4,
 "nbformat_minor": 5
}
