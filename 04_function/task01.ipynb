{
 "cells": [
  {
   "cell_type": "code",
   "execution_count": 89,
   "id": "06184cb5",
   "metadata": {},
   "outputs": [],
   "source": [
    "# 文字数チェック\n",
    "def number_string(input_string):\n",
    "    return ( 5 <= len(input_string) < 15 )\n",
    "\n",
    "# 空白を確認\n",
    "def spaces_string(input_string):\n",
    "    return \" \" not in input_string\n",
    "\n",
    "# 英数字を確認\n",
    "def alphanumeric_only_string(input_string):\n",
    "    return input_string.isalnum()\n",
    "\n",
    "def user_name(check_name):\n",
    "    if not number_string(check_name):\n",
    "        print(\"エラー: ユーザー名は5文字以上15文字以内で入力してください\")\n",
    "        return False\n",
    "\n",
    "    elif not spaces_string(check_name):\n",
    "        print(\"エラー: ユーザー名に空白を含めることはできません\")\n",
    "        return False\n",
    "    \n",
    "    elif not alphanumeric_only_string(check_name):\n",
    "        print(\"エラー: ユーザー名は英数字のみ使用できます\")\n",
    "        return False\n",
    "    \n",
    "    else:\n",
    "        return True"
   ]
  },
  {
   "cell_type": "code",
   "execution_count": 92,
   "id": "02c2ae11",
   "metadata": {},
   "outputs": [
    {
     "name": "stdout",
     "output_type": "stream",
     "text": [
      "エラー: ユーザー名は英数字のみ使用できます\n",
      "不正なユーザー名です\n"
     ]
    }
   ],
   "source": [
    "user_input = input(\"ユーザー名を入力してください\")\n",
    "\n",
    "if user_name(user_input):\n",
    "    print(\"ユーザー名は有効です\")\n",
    "else:\n",
    "    print(\"不正なユーザー名です\")"
   ]
  }
 ],
 "metadata": {
  "kernelspec": {
   "display_name": "Python 3",
   "language": "python",
   "name": "python3"
  },
  "language_info": {
   "codemirror_mode": {
    "name": "ipython",
    "version": 3
   },
   "file_extension": ".py",
   "mimetype": "text/x-python",
   "name": "python",
   "nbconvert_exporter": "python",
   "pygments_lexer": "ipython3",
   "version": "3.12.7"
  }
 },
 "nbformat": 4,
 "nbformat_minor": 5
}
