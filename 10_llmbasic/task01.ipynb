{
 "cells": [
  {
   "cell_type": "code",
   "execution_count": 3,
   "id": "af76a1b6",
   "metadata": {},
   "outputs": [
    {
     "data": {
      "text/plain": [
       "'質問:こんにちは！'"
      ]
     },
     "metadata": {},
     "output_type": "display_data"
    },
    {
     "name": "stdout",
     "output_type": "stream",
     "text": [
      "こんにちは！何かお手伝いできることがありますか？"
     ]
    },
    {
     "data": {
      "text/plain": [
       "'質問:初心者にオススメのプログラミング言語を3つ教えて'"
      ]
     },
     "metadata": {},
     "output_type": "display_data"
    },
    {
     "name": "stdout",
     "output_type": "stream",
     "text": [
      "初心者にオススメのプログラミング言語は以下の3つです：\n",
      "\n",
      "1. **Python**:\n",
      "   - 読みやすくシンプルな文法が特徴で、初心者にとって理解しやすい言語です。\n",
      "   - データ分析、機械学習、Web開発など、さまざまな分野で使用されています。\n",
      "   - 豊富なライブラリとコミュニティのサポートがあるため、学習資源も多くあります。\n",
      "\n",
      "2. **JavaScript**:\n",
      "   - Web開発において必須の言語であり、フロントエンドやバックエンドの両方で使用されます。\n",
      "   - インタラクティブなウェブアプリケーションを作成するのに非常に役立ちます。\n",
      "   - 学習曲線が比較的緩やかで、実際に動くものをすぐに作成できるため、達成感を感じやすいです。\n",
      "\n",
      "3. **Ruby**:\n",
      "   - シンプルで直感的な文法を持ち、初学者に優しい言語です。\n",
      "   - 特にRuby on Railsというフレームワークを使ったWeb開発に強みがあります。\n",
      "   - コードが美しく、開発を楽しむことができるため、学ぶ意欲が続きやすいです。\n",
      "\n",
      "これらの言語は、それぞれの特性によって異なる分野に適していますので、興味のある分野に応じて選ぶと良いでしょう。"
     ]
    },
    {
     "data": {
      "text/plain": [
       "'質問:1つ目のプログラミング言語の名前は？'"
      ]
     },
     "metadata": {},
     "output_type": "display_data"
    },
    {
     "name": "stdout",
     "output_type": "stream",
     "text": [
      "1つ目のプログラミング言語は「Python」です。\n",
      "---ご利用ありがとうございました！---\n"
     ]
    }
   ],
   "source": [
    "# 必要なモジュールをインポート\n",
    "import os\n",
    "from dotenv import load_dotenv\n",
    "from openai import OpenAI\n",
    "from pprint import pprint\n",
    "\n",
    "# 環境変数の取得\n",
    "load_dotenv(\"../.env\")\n",
    "\n",
    "# OpenAI APIクライアントを生成\n",
    "client = OpenAI(api_key=os.environ['API_KEY'])\n",
    "\n",
    "# モデル名\n",
    "MODEL_NAME = \"gpt-4o-mini\"\n",
    "\n",
    "# メッセージを格納するリスト\n",
    "messages=[]\n",
    "\n",
    "while(True):\n",
    "    # ユーザーからの質問を受付\n",
    "    message = input(\"メッセージを入力:\")\n",
    "    # 質問が入力されなければ終了\n",
    "    if message.strip()==\"\":\n",
    "        break\n",
    "    display(f\"質問:{message}\")\n",
    "\n",
    "    # メッセージにユーザーからの質問を追加\n",
    "    messages.append({\"role\": \"user\", \"content\": message.strip()})\n",
    "    # やりとりが8を超えたら古いメッセージから削除\n",
    "    if len(messages) > 8:\n",
    "        del_message = messages.pop(0)\n",
    "\n",
    "    # APIへリクエスト\n",
    "    stream = client.chat.completions.create(\n",
    "        model=MODEL_NAME,\n",
    "        messages=messages,\n",
    "        stream=True,\n",
    "    )\n",
    "\n",
    "    # 言語モデルからの回答を表示\n",
    "    response_message = \"\"\n",
    "    for chunk in stream:\n",
    "        if chunk.choices:\n",
    "            next = chunk.choices[0].delta.content\n",
    "            if next is not None:\n",
    "                response_message += next\n",
    "                print(next, end='', flush=True)\n",
    "\n",
    "    # メッセージに言語モデルからの回答を追加\n",
    "    messages.append({\"role\": \"assistant\", \"content\": response_message})\n",
    "\n",
    "print(\"\\n---ご利用ありがとうございました！---\")"
   ]
  }
 ],
 "metadata": {
  "kernelspec": {
   "display_name": ".venv",
   "language": "python",
   "name": "python3"
  },
  "language_info": {
   "codemirror_mode": {
    "name": "ipython",
    "version": 3
   },
   "file_extension": ".py",
   "mimetype": "text/x-python",
   "name": "python",
   "nbconvert_exporter": "python",
   "pygments_lexer": "ipython3",
   "version": "3.12.7"
  }
 },
 "nbformat": 4,
 "nbformat_minor": 5
}
