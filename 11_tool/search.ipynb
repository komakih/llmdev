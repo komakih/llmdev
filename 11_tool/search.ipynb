{
 "cells": [
  {
   "cell_type": "code",
   "execution_count": 56,
   "id": "1090ab24",
   "metadata": {},
   "outputs": [],
   "source": [
    "# 必要なモジュールをインポート\n",
    "import os\n",
    "import json\n",
    "from dotenv import load_dotenv\n",
    "from openai import OpenAI\n",
    "from openai.types.chat import ChatCompletionToolParam\n",
    "from tavily import TavilyClient\n",
    "\n",
    "# 環境変数の取得\n",
    "load_dotenv(\"../.env\")\n",
    "\n",
    "# OpenAI APIクライアントを生成\n",
    "client = OpenAI(api_key=os.environ['API_KEY'])\n",
    "\n",
    "# tavily検索用APIキーの取得\n",
    "TAVILY_API_KEY = os.environ['TAVILY_API_KEY']\n",
    "\n",
    "# モデル名\n",
    "MODEL_NAME = \"gpt-4o-mini\""
   ]
  },
  {
   "cell_type": "code",
   "execution_count": 57,
   "id": "fc72530b",
   "metadata": {},
   "outputs": [],
   "source": [
    "# 検索結果を返す関数の作成\n",
    "def get_search_result(question):\n",
    "    client = TavilyClient(api_key=TAVILY_API_KEY)\n",
    "    response = client.search(question)\n",
    "    return json.dumps({\"result\": response[\"results\"]})"
   ]
  },
  {
   "cell_type": "code",
   "execution_count": 58,
   "id": "6fbdaa14",
   "metadata": {},
   "outputs": [
    {
     "data": {
      "text/plain": [
       "{'result': [{'title': '東京駅(東京都)周辺のイベント - ウォーカープラス',\n",
       "   'url': 'https://www.walkerplus.com/event_list/ar0313/sc309880d/',\n",
       "   'content': '東京駅(東京都)周辺のイベント｜ウォーカープラス 千代田区 中央区 ウォーカープラス 東京駅(東京都)周辺のイベント 東京駅(東京都)周辺のイベント 今日 明日 今週末 千代田区 中央区 アニメ「鬼滅の刃」柱展 ーそして無限城へー終了間近 2024年11月2日(土)～2025年3月2日(日) 江戸にひかり大丸有開催中 2025年1月9日(木)～3月7日(金) 二重橋前駅(東京都), 東京駅(東京都), 大手町駅(東京都), 有楽町駅(東京都), 日比谷駅(東京都) 生誕120年 宮脇綾子の芸術 見た、切った、貼った開催中 2025年1月25日(土)～3月16日(日) 東京駅(東京都), 二重橋前駅(東京都), 大手町駅(東京都), 日本橋駅(東京都), 京橋駅(東京都) 1日限りの光の祭典「アイスキャンドルフェスティバル」と山中湖ダイヤモンド富士と河口湖湖畔 大石公園終了間近 2025年2月23日(日) 二重橋前駅(東京都), 東京駅(東京都), 有楽町駅(東京都), 大手町駅(東京都), 京橋駅(東京都) 丸の内エリアプロジェクションマッピング 東京大浮世絵終了間近 2025年2月21日(金)～25日(火) 二重橋前駅(東京都), 東京駅(東京都), 有楽町駅(東京都), 大手町駅(東京都), 京橋駅(東京都) 二重橋前駅(東京都), 東京駅(東京都), 有楽町駅(東京都), 大手町駅(東京都), 京橋駅(東京都) 二重橋前駅(東京都), 東京駅(東京都), 有楽町駅(東京都), 大手町駅(東京都), 京橋駅(東京都) 大手町駅(東京都), 東京駅(東京都), 二重橋前駅(東京都), 神田駅(東京都), 三越前駅(東京都) Otemachi One Illumination終了間近 2024年11/8(金)～2025年2月下旬 大手町駅(東京都), 竹橋駅(東京都), 神田駅(東京都), 二重橋前駅(東京都), 東京駅(東京都) 京橋エドグラン クリスマスイルミネーション2024終了間近 2024年11月22日(金)～2025年2月28日(金) 京橋駅(東京都), 宝町駅(東京都), 銀座一丁目駅(東京都), 東京駅(東京都), 有楽町駅(東京都) 2月 3月 4月 5月 千代田区 中央区 からだにplus Walker 「食事」や「行動」を中心とした、健康維持に役立つ情報をたっぷりとお届け CHECK!関東の人気ランキングはこちら 東京 東京 東京 動き出す浮世絵展 TOKYO 新！いい人すぎるよ展＆すぎるよすぎるよ展(東京) {{/ is_event }} {{# is_spot }}  {{ name }} {{ pref_name }}{{ city_name }} ウォーカープラス @walkerplus_news ウォーカープラス漫画部 @walkerpluscomic 関西ウォーカー @KansaiWalkers 東海ウォーカー @TokaiWalkers キャラWalker @chara_walker_ MOVIE WALKER PRESS',\n",
       "   'score': 0.82117355,\n",
       "   'raw_content': None},\n",
       "  {'title': '東京駅周辺・丸の内でおすすめのイベント',\n",
       "   'url': 'https://www.enjoytokyo.jp/event/list/area1306/',\n",
       "   'content': '～ 2025/03/16(日) MOTAS.による新作個展「オリジナルレシピ / Original Recipe」が、Gallery & Bakery Tokyo ８分にて開催中。 2025/03/15(土) ～ 04/08(火) 2025/03/12(水) ～ 04/01(火) 2025/02/28(金) ～ 03/23(日) 2025/03/07(金) ～ 03/23(日) ※金曜日、土曜日、日曜日のみ 2025 in TOKYO MIDTOWN YAESU 2025/03/07(金) ～ 04/06(日) ※各イベントによって開催日が異なります。詳細は公式サイトをご確認ください。 2025/03/01(土) ～ 06/01(日) 休館日：月曜日（5月5日は開館）、5月7日 2025/03/01(土) ～ 06/01(日) 休館日：月曜日（5月5日は開館）、5月7日 2025/03/05(水) ～ 03/25(火) 2025/02/22(土) ～ 04/20(日) 進撃の巨人：2025/03/21(金)～03/30(日)\\r 2024/10/10(木) ～ 2025/03/30(日) 2025/03/19(水) ～ 04/06(日) 2025/03/19(水) ～ 03/25(火) 2025/08/20(水) ～ 09/07(日) 2025/03/21(金) ～ 03/30(日) 2025/04/09(水) ～ 04/13(日) 2025/06/21(土) ～ 06/22(日) ～ 2025/03/16(日) 【パスタコース】サラダバー・パスタ・いちごデザートビュッフェ【AWKitchen TOKYO 新丸ビル店】 2024/12/01(日) ～ 2025/05/31(土) 2024/11/01(金) ～ 2025/05/11(日) 2025/03/07(金) ～ 03/23(日) 開催日は期間中の金曜・土曜・日曜。開映日時は作品によって異なる。 2025/03/20(木・祝) ～ 03/30(日) 2025/03/20(木・祝) ～ 05/25(日) 2025/03/22(土) ～ 03/28(金) 2025/03/08(土) ～ 09/07(日) 2025/03/22(土) ～ 03/23(日) 2025/03/01(土) ～ 04/20(日) TOKYO TOWER CITY LIGHT FANTASIA - Spring Concerto 2025 - © Tokyo Metro Co., Ltd. & Let’s ENJOY TOKYO, Inc.',\n",
       "   'score': 0.7946564,\n",
       "   'raw_content': None},\n",
       "  {'title': '東京駅周辺のイベント - 駅探',\n",
       "   'url': 'https://ekitan.com/event/station-2590',\n",
       "   'content': '東京駅周辺のイベント - 駅探 駅探 | ekitan 乗換案内 乗換案内 飛行機時刻表 飛行機時刻表(国内線) 飛行機時刻表(国際線) 駅探 東京駅周辺のイベント 閉じる 2025 in TOKYO MIDTOWN YAESU 東京の玄関口で新たな春の旅立ちを祝う 期間2025年3月7日(金)～4月6日(日) 会場東京ミッドタウン八重洲 * 東京都 中央区 * 東京駅／京橋駅(東京)／宝町駅 1. #### AFRICA POP 2025 アフリカンプリントで彩りのある暮らしを 期間2025年3月5日(水)～3月11日(火) このイベントは終了しました 会場丸善丸の内本店4階 特選文具売り場イベントスペース * 東京都 千代田区 * 東京駅／大手町駅(東京)／二重橋前駅 1. #### つるが（敦賀）とわかさ（若狭）とマルノウチ（丸の内）つながる福井グルメフェア 福井・敦賀の特産品の魅力を堪能しよう！ 期間2025年1月13日(月)～2月2日(日) このイベントは終了しました 会場新丸ビル7階 丸の内ハウス * 東京都 千代田区 * 東京駅／二重橋前駅／大手町駅(東京)駅 1. #### ＜大人の社会科見学＞「読売新聞東京本社会社見学」＆ランチ交流会 大人気イベント企画第9弾！ 期間2025年2月12日(水) このイベントは終了しました 会場読売新聞東京本社 * 東京都 千代田区 * 大手町駅(東京)／竹橋駅／東京駅 1. 京橋(東京) 大手町(東京) 日本橋(東京) もっとみる 閉じる 東京駅発の人気の区間(乗換案内) もっとみる 閉じる 東京メトロ日比谷線 八丁堀駅 徒歩4分 23.8万円(管理費等：15,000円) 1LDK / 40.09m2 / 11階 / 築6年 東京メトロ日比谷線 八丁堀駅 徒歩3分 24.2万円(管理費等：15,000円) 1LDK / 40.06m2 / 7階 / 築1年 JR山手線 東京駅 徒歩10分 15.4万円(管理費等：9,000円) 1K / 30.4m2 / 8階 東京メトロ銀座線 日本橋駅 徒歩4分 9,980万円 1LDK / 41.04m2 / 5階 / 築21年 AGA Copyright©2025 駅探.',\n",
       "   'score': 0.7944651,\n",
       "   'raw_content': None},\n",
       "  {'title': '東京駅発春イベント「Tokyo Easter & Sweets」開催!',\n",
       "   'url': 'https://media.jreast.co.jp/articles/3438',\n",
       "   'content': 'Published Time: 2025-04-02T19:02:05+09:00 東京駅発春イベント「TOKYO EASTER & SWEETS」開催！ | JRE MALL Media 更新日： 2025年04月11日 東京駅発春イベント「TOKYO EASTER & SWEETS」開催！ JR東京駅B1改札内イベントスペース「スクエア ゼロ」にて、春の訪れを祝福するお祭り”イースター”をテーマにした「TOKYO EASTER & SWEETS」を2025年4月12日(土)～20日(日)開催！ 特設会場では、春をイメージしたスイーツやフラワーギフトなどの販売やイースターにちなんだアトラクションを楽しむことができます！ 春は新生活や新しいチャレンジをスタートする季節。そんな皆さまに、東京駅から”祝福”と”エール”を贈ります！ ポスト シェア 送る 東京駅イベント「TOKYO EASTER & SWEETS」開催 会場イメージ図 JR東京駅B1改札内イベントスペース「スクエア ゼロ」にて「TOKYO EASTER & SWEETS（トーキョーイースター＆スイーツ）」と題して、春の訪れを祝福するお祭\"イースター\"をテーマに、お買物とイースターエッグにちなんだアトラクションを楽しむイベントを開催します！ 期間中、春やイースターをイメージしたスイーツやフラワーギフトショップなどでお買い物していただくと、「エッグハント」や「エッグボウル」といったアトラクションに参加でき、獲得したポイント数のオリジナルチョコレートをプレゼント！ 春は新生活や新しいチャレンジをスタートする季節。そんな皆さまに、東京駅から\"祝福\"と\"エール\"を贈ります！ 【開催概要】 開催期間：2025年4月12日(土)～20日(日) 9日間 時間：11:00～20:00 場所：JR東京駅B1改札内イベントスペース 「スクエア ゼロ」   参加条件：アトラクションのうち、「エッグハント」と「エッグボウル」は、対象6ショップのいずれかでのお買物でもらえる「エッグステッカー」が参加券となりますのでご持参ください。   ・開催を中止する場合は、東京ステーションシティHP/東京駅 Faceboookなどでお知らせいたします。 「TOKYO EASTER & SWEETS」の詳細はこちら 「TOKYO EASTER & SWEETS」の詳細はこちら 東京駅 イースター おでかけ グランスタ 東京 おでかけ 1 ### 江戸三大祭りの一つ、神田祭！今年は本祭、例大祭は15日(木)！ JRE MALL Media編集部 2 ### 【ルミネ/LUMINE】2025年5月のルミネカード10%オフキャンペーン5月15日(木)から！ JRE MALL Media編集部 4 ### 【千葉県民の日2025】6月15日の日曜日／イベントやお得なスポット紹介！ JRE MALL Media編集部 5 ### 北陸新幹線E7系の「くつろぎ」を自宅に。EMOOR×JR東日本の特別コラボ高座椅子が登場！ JRE MALLショッピング編集部 JRE MALL Media おでかけ 東京駅発春イベント「TOKYO EASTER & SWEETS」開催！ おでかけ JRE MALLショッピング ふるさと納税 東京 おでかけ JRE MALL Mediaについて JRE MALL JRE MALL ふるさと納税 JRE MALLチケット JRE MALLショッピング JRE POINT GRANSTA(グランスタ) JRE MALL Media | JR東日本公式のおでかけ&鉄道情報メディア',\n",
       "   'score': 0.6947383,\n",
       "   'raw_content': None},\n",
       "  {'title': '【5月最新】東京駅イベントカレンダー・スケジュール一覧 - ベストカレンダー',\n",
       "   'url': 'https://bestcalendar.jp/events/東京駅',\n",
       "   'content': '「東京駅」の2025年5月最新のイベント情報をカレンダー表示でひと目で確認。これから開催するイベントや随時更新中の発売日一覧など気になるスケジュールをチェック。エコバッグ店舗拡大、東京ばな奈ミニオン販売、ゴディバターズ初店舗オープンなど最新情報盛り沢山。',\n",
       "   'score': 0.6783488,\n",
       "   'raw_content': None}]}"
      ]
     },
     "execution_count": 58,
     "metadata": {},
     "output_type": "execute_result"
    }
   ],
   "source": [
    "# テスト用コード\n",
    "ret = get_search_result(\"東京駅のイベントを教えて\")\n",
    "json.loads(ret)\n"
   ]
  },
  {
   "cell_type": "code",
   "execution_count": 59,
   "id": "51a1e4e3",
   "metadata": {},
   "outputs": [],
   "source": [
    "# ツール定義\n",
    "def define_tools():\n",
    "    return [\n",
    "        ChatCompletionToolParam({\n",
    "            \"type\": \"function\",\n",
    "            \"function\": {\n",
    "                \"name\": \"get_search_result\",\n",
    "                \"description\": \"指定した質問文の検索結果を取得する\",\n",
    "                \"parameters\": {\n",
    "                    \"type\": \"object\",\n",
    "                    \"properties\": {\n",
    "                        \"question\": {\"type\": \"string\", \"description\": \"質問文\"},\n",
    "                    },\n",
    "                    \"required\": [\"question\"],\n",
    "                },\n",
    "            },\n",
    "        })\n",
    "    ]"
   ]
  },
  {
   "cell_type": "code",
   "execution_count": 60,
   "id": "b7791e61",
   "metadata": {},
   "outputs": [],
   "source": [
    "# 言語モデルへの質問を行う関数\n",
    "def ask_question(question, tools):\n",
    "    response = client.chat.completions.create(\n",
    "        model=MODEL_NAME,\n",
    "        messages=[{\"role\": \"user\", \"content\": question}],\n",
    "        tools=tools,\n",
    "        tool_choice=\"auto\",\n",
    "    )\n",
    "    return response"
   ]
  },
  {
   "cell_type": "code",
   "execution_count": 61,
   "id": "8e6d9ffb",
   "metadata": {},
   "outputs": [],
   "source": [
    "# ツール呼び出しが必要な場合の処理を行う関数\n",
    "def handle_tool_call(response, question):\n",
    "    # 関数の実行と結果取得\n",
    "    tool = response.choices[0].message.tool_calls[0]\n",
    "    function_name = tool.function.name\n",
    "    arguments = json.loads(tool.function.arguments)\n",
    "    function_response = globals()[function_name](**arguments)\n",
    "\n",
    "    # 関数の実行結果をmessagesに加えて再度言語モデルを呼出\n",
    "    response_after_tool_call = client.chat.completions.create(\n",
    "        model=MODEL_NAME,\n",
    "        messages=[\n",
    "            {\"role\": \"user\", \"content\": question},\n",
    "            response.choices[0].message,\n",
    "            {\n",
    "                \"tool_call_id\": tool.id,\n",
    "                \"role\": \"tool\",\n",
    "                \"content\": function_response,\n",
    "            },\n",
    "        ],\n",
    "    )\n",
    "    return response_after_tool_call"
   ]
  },
  {
   "cell_type": "code",
   "execution_count": 62,
   "id": "2bfe3b98",
   "metadata": {},
   "outputs": [],
   "source": [
    "# ユーザーからの質問を処理する関数\n",
    "def process_response(question, tools):\n",
    "    response = ask_question(question, tools)\n",
    "\n",
    "    if response.choices[0].finish_reason == 'tool_calls':\n",
    "        # ツール呼出の場合\n",
    "        final_response = handle_tool_call(response, question)\n",
    "        return final_response.choices[0].message.content.strip()\n",
    "    else:\n",
    "        # 言語モデルが直接回答する場合\n",
    "        return response.choices[0].message.content.strip()"
   ]
  },
  {
   "cell_type": "code",
   "execution_count": 63,
   "id": "cbf04e10",
   "metadata": {},
   "outputs": [
    {
     "name": "stdout",
     "output_type": "stream",
     "text": [
      "東京都と沖縄県の面積を比較すると、沖縄県の方が広いです。\n",
      "\n",
      "- **東京都**の面積は約2,194平方キロメートルです。\n",
      "- **沖縄県**の面積は約2,283平方キロメートルです。\n",
      "\n",
      "したがって、沖縄県の方が東京都よりも広いという結果になります。\n"
     ]
    }
   ],
   "source": [
    "tools = define_tools()\n",
    "\n",
    "# 言語モデルが直接回答できる質問\n",
    "question = \"東京都と沖縄県はどちらが広いですか？\"\n",
    "response_message = process_response(question, tools)\n",
    "print(response_message)\n"
   ]
  },
  {
   "cell_type": "code",
   "execution_count": 64,
   "id": "11674f3b",
   "metadata": {},
   "outputs": [
    {
     "name": "stdout",
     "output_type": "stream",
     "text": [
      "最近1ヶ月以内に東京駅周辺で開催されるイベントについて、以下の情報があります：\n",
      "\n",
      "1. **【東京駅近商業施設】秋のイベント**\n",
      "   - 日程: 2023年9月14日(木)・15日(金)\n",
      "   - 内容: 「観光PR・物産展 in 舩の内トラストシティ」で開催されます。\n",
      "   - 詳細: [こちらをチェック](https://tabizine.jp/article/547199/)\n",
      "\n",
      "2. **東京の秋祭りとイベント**\n",
      "   - 内容: 2023年9月に東京で行われる秋の祭りやイベントを紹介しています。\n",
      "   - 詳細: [もっと見る](https://www.enjoytokyo.jp/feature/matsuri_autumn/cal_sept_tokyo/)\n",
      "\n",
      "3. **9月のイベントカレンダー**\n",
      "   - 内容: 秋の主なイベントや、2023年の東京での催し物を特集した情報です。\n",
      "   - 詳細: [カレンダーはこちら](http://www.winriver.net/tokyo/event/event2023/event202309.php)\n",
      "\n",
      "4. **【関東・東京】秋の祭りや花火**\n",
      "   - 日程: 2023年9月中で多くの祭りや花火イベントが行われます。\n",
      "   - 詳細: [詳細情報](https://tabiiro.jp/higaeri/article/september2023-event/)\n",
      "\n",
      "これらのイベントは、東京駅周辺で楽しめるフレッシュなコンテンツですので、ぜひチェックしてみてください。\n"
     ]
    }
   ],
   "source": [
    "tools = define_tools()\n",
    "\n",
    "# ツール呼出が必要な質問\n",
    "question = \"東京駅のイベントについて、最近1ヶ月以内の検索結果を教えてください\"\n",
    "response_message = process_response(question, tools)\n",
    "print(response_message)"
   ]
  },
  {
   "cell_type": "code",
   "execution_count": 67,
   "id": "3c42cc5d",
   "metadata": {},
   "outputs": [
    {
     "data": {
      "text/plain": [
       "'質問:こんにちわ！'"
      ]
     },
     "metadata": {},
     "output_type": "display_data"
    },
    {
     "name": "stdout",
     "output_type": "stream",
     "text": [
      "こんにちわ！どういったことをお手伝いしましょうか？\n"
     ]
    },
    {
     "data": {
      "text/plain": [
       "'質問:東北6県は？'"
      ]
     },
     "metadata": {},
     "output_type": "display_data"
    },
    {
     "name": "stdout",
     "output_type": "stream",
     "text": [
      "東北地方は、日本の北部に位置し、以下の6つの県から構成されています：\n",
      "\n",
      "1. 青森県（あおもりけん）\n",
      "2. 岩手県（いわてけん）\n",
      "3. 宮城県（みやぎけん）\n",
      "4. 秋田県（あきたけん）\n",
      "5. 山形県（やまがたけん）\n",
      "6. 福島県（ふくしまけん）\n",
      "\n",
      "これらの県は、自然の美しさや豊かな文化、歴史的な背景を持つ地域です。\n"
     ]
    },
    {
     "data": {
      "text/plain": [
       "'質問:福島県のお土産について検索した結果を教えて'"
      ]
     },
     "metadata": {},
     "output_type": "display_data"
    },
    {
     "name": "stdout",
     "output_type": "stream",
     "text": [
      "福島県のお土産についての情報をいくつかご紹介します。\n",
      "\n",
      "1. **福島のお土産選びのガイド**:\n",
      "   - 福島県の名産品や特産品が紹介されています。特に「お塩」や「お菓子」、「地酒」などが人気です。福島の地域の食材や風土に根ざしたお土産が多く、手に入れる価値があります。\n",
      "   - 参考URL: [福島の名産品 - Sakidori](https://sakidori.co/article/1320730)\n",
      "\n",
      "2. **地方固有の食品やお菓子**:\n",
      "   - 地元産の大豆や米を使用した食品、お菓子が数多くあり、人気の選択肢としては「ラーメン」や「お茶」、特に「野菜の加工品」が挙げられます。また「お酒」も特に推薦されるお土産です。\n",
      "   - 参考URL: [福島県の愉しみ - amaびじん](https://amabijin.com/article/14865)\n",
      "\n",
      "3. **地元の人が推すお土産ランキング**:\n",
      "   - 地元の人々が選ぶ福島のお土産トップ10が掲載されており、地域で愛されている特産品が集められています。\n",
      "   - 参考URL: [旅行ガイド](https://www.jalan.net/news/article/93586/)\n",
      "\n",
      "4. **旅行者向けのおすすめお土産**:\n",
      "   - 最新のトレンドを反映した福島のお土産が紹介されています。各地での定番や新しい商品を押さえることができる情報があります。\n",
      "   - 参考URL: [Trip.com お土産ガイド](https://jp.trip.com/guide/shopping/福島+お土産.html)\n",
      "\n",
      "5. **イベントや販売所情報**:\n",
      "   - 現地で購入可能な特産品についての詳細や、販売店の情報がまとめられています。県内の市場や観光地で見つけられる商品についても触れられています。\n",
      "   - 参考URL: [macaroni お土産特集](https://macaro-ni.jp/159948)\n",
      "\n",
      "これらの情報をもとに、福島県ならではのお土産を楽しく選んでみてください。どれも地元の魅力が詰まった品々です。\n",
      "\n",
      "---ご利用ありがとうございました！---\n"
     ]
    }
   ],
   "source": [
    "# チャットボットへの組み込み\n",
    "tools = define_tools()\n",
    "\n",
    "while(True):\n",
    "    # ユーザーからの質問を受付\n",
    "    question = input(\"メッセージを入力:\")\n",
    "    # 質問が入力されなければ終了\n",
    "    if question.strip()==\"\":\n",
    "        break\n",
    "    display(f\"質問:{question}\")\n",
    "\n",
    "    # メッセージにユーザーからの質問を追加\n",
    "    messages.append({\"role\": \"user\", \"content\": question.strip()})\n",
    "    # やりとりが8を超えたら古いメッセージから削除\n",
    "    if len(messages) > 8:\n",
    "        del_message = messages.pop(0)\n",
    "\n",
    "    # 言語モデルに質問\n",
    "    response_message = process_response(question, tools)\n",
    "\n",
    "    # メッセージに言語モデルからの回答を追加\n",
    "    print(response_message, flush=True)\n",
    "    messages.append({\"role\": \"assistant\", \"content\": response_message})\n",
    "\n",
    "print(\"\\n---ご利用ありがとうございました！---\")"
   ]
  }
 ],
 "metadata": {
  "kernelspec": {
   "display_name": ".venv",
   "language": "python",
   "name": "python3"
  },
  "language_info": {
   "codemirror_mode": {
    "name": "ipython",
    "version": 3
   },
   "file_extension": ".py",
   "mimetype": "text/x-python",
   "name": "python",
   "nbconvert_exporter": "python",
   "pygments_lexer": "ipython3",
   "version": "3.12.7"
  }
 },
 "nbformat": 4,
 "nbformat_minor": 5
}
